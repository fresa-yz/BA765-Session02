{
  "nbformat": 4,
  "nbformat_minor": 0,
  "metadata": {
    "accelerator": "GPU",
    "colab": {
      "name": "Assignment #1 -Ying Zhang.ipynb",
      "provenance": [],
      "collapsed_sections": [],
      "machine_shape": "hm",
      "include_colab_link": true
    },
    "kernelspec": {
      "display_name": "Python 3",
      "name": "python3"
    },
    "language_info": {
      "name": "python"
    }
  },
  "cells": [
    {
      "cell_type": "markdown",
      "metadata": {
        "id": "view-in-github",
        "colab_type": "text"
      },
      "source": [
        "<a href=\"https://colab.research.google.com/github/fresa-yz/BA765-Session02/blob/master/Assignment_1_Ying_Zhang.ipynb\" target=\"_parent\"><img src=\"https://colab.research.google.com/assets/colab-badge.svg\" alt=\"Open In Colab\"/></a>"
      ]
    },
    {
      "cell_type": "markdown",
      "metadata": {
        "id": "DPdSYF8zxKxd"
      },
      "source": [
        "**Assignment #1 -Ying Zhang.ipynb**"
      ]
    },
    {
      "cell_type": "markdown",
      "metadata": {
        "id": "yRUWhS6g4GIG"
      },
      "source": [
        "The goal of this notebook is to show the possibilities of predicting financial outcomes from textual data via DistilBERT transformer model. \n",
        "\n",
        "This notebook builds on the next files: \n",
        "\n",
        "*   `company_des.csv` with company descriptions, see `2. Business Descriptions.ipynb` \n",
        "*   `ta.csv` and `rev.csv` with total assets and revenue data, see `3. YFinance Data.ipynb`\n",
        "\n",
        "The steps this ipynb goes through are below: \n",
        "\n",
        "1.   Mount your Google Drive and establish the working directory. \n",
        "2.   Install and load the necessary libraries. \n",
        "3.   Load, merge, clean the data. \n",
        "4.   Create the label variable. \n",
        "5.   Prepare the predictor.  \n",
        "6.   Run the DistilBERT model. \n",
        "7.   Train logistic regression and evaluate its accuracy.\n",
        "\n",
        "\n",
        "\n"
      ]
    },
    {
      "cell_type": "markdown",
      "metadata": {
        "id": "_I2KT9vV5iKf"
      },
      "source": [
        "**Note**. Save this Colab notebook to your Drive via File > Save a copy in Drive to be able to edit it. "
      ]
    },
    {
      "cell_type": "markdown",
      "metadata": {
        "id": "-PG8F__v54tT"
      },
      "source": [
        "# 1. Mount your Google Drive and establish the working directory"
      ]
    },
    {
      "cell_type": "markdown",
      "metadata": {
        "id": "eMJ4Xvop5xWm"
      },
      "source": [
        "Mounting allows to access files on your Google Drive. You'll need to allow the Google Drive for desktop's access to your Google Account and copying the sign in code into the authorization code field. "
      ]
    },
    {
      "cell_type": "code",
      "metadata": {
        "colab": {
          "base_uri": "https://localhost:8080/"
        },
        "id": "S0_cinTQ33UL",
        "outputId": "a9da1e3d-2447-4d0c-b678-613a11122fa9"
      },
      "source": [
        "# Mount Google Drive\n",
        "from google.colab import drive\n",
        "drive.mount('/content/gdrive/')"
      ],
      "execution_count": 158,
      "outputs": [
        {
          "output_type": "stream",
          "text": [
            "Drive already mounted at /content/gdrive/; to attempt to forcibly remount, call drive.mount(\"/content/gdrive/\", force_remount=True).\n"
          ],
          "name": "stdout"
        }
      ]
    },
    {
      "cell_type": "markdown",
      "metadata": {
        "id": "HvXdVx1K6a1r"
      },
      "source": [
        "Set working directory to a Google Drive folder: change the `root_dir` to the folder on your Google Drive. \n",
        "\n",
        "`root_dir = \"/content/gdrive/MyDrive/...`"
      ]
    },
    {
      "cell_type": "code",
      "metadata": {
        "colab": {
          "base_uri": "https://localhost:8080/"
        },
        "id": "d4OEN-a_6Gsg",
        "outputId": "5cf6e7b5-1a3b-42cf-dfe3-81c562ef9bbb"
      },
      "source": [
        "import os\n",
        "\n",
        "# Set your working directory to a folder in your Google Drive. This way, if your notebook times out,\n",
        "# your files will be saved in your Google Drive!\n",
        "\n",
        "# the base Google Drive directory\n",
        "root_dir = \"/content/gdrive/My Drive/financial_analytics/lecture02/\"\n",
        "\n",
        "# choose where you want your project files to be saved\n",
        "project_folder = \"CSV/\"\n",
        "\n",
        "def create_and_set_working_directory(project_folder):\n",
        "  # check if your project folder exists. if not, it will be created.\n",
        "  if os.path.isdir(root_dir + project_folder) == False:\n",
        "    os.mkdir(root_dir + project_folder)\n",
        "    print(root_dir + project_folder + ' did not exist but was created.')\n",
        "\n",
        "  # change the OS to use your project folder as the working directory\n",
        "  os.chdir(root_dir + project_folder)\n",
        "\n",
        "  # create a test file to make sure it shows up in the right place\n",
        "  !touch 'new_file_in_working_directory.txt'\n",
        "  print('\\nYour working directory was changed to ' + root_dir + project_folder + \\\n",
        "        \"\\n\\nAn empty text file was created there. You can also run !pwd to confirm the current working directory.\" )\n",
        "\n",
        "create_and_set_working_directory(project_folder)"
      ],
      "execution_count": 159,
      "outputs": [
        {
          "output_type": "stream",
          "text": [
            "\n",
            "Your working directory was changed to /content/gdrive/My Drive/financial_analytics/lecture02/CSV/\n",
            "\n",
            "An empty text file was created there. You can also run !pwd to confirm the current working directory.\n"
          ],
          "name": "stdout"
        }
      ]
    },
    {
      "cell_type": "markdown",
      "metadata": {
        "id": "hd5I0KZR6iOu"
      },
      "source": [
        "Check if the function worked by listing the files in the project folder. During the very first run it should contain only `new_file_in_working_directory.txt`. If you upload other files to your `project_folder`, other files will be listed too. "
      ]
    },
    {
      "cell_type": "code",
      "metadata": {
        "colab": {
          "base_uri": "https://localhost:8080/"
        },
        "id": "kXsOSNC96kRp",
        "outputId": "3260092a-1e4b-48d5-e68e-92512f5562e6"
      },
      "source": [
        "!ls"
      ],
      "execution_count": 160,
      "outputs": [
        {
          "output_type": "stream",
          "text": [
            " assign1.csv\t\t\t    'Russell 3000 tickers.csv'\t ta.csv\n",
            " new_file_in_working_directory.txt  'stock_des (1).csv'\t\t tickers.csv\n",
            " rev.csv\t\t\t     stock_des.csv\n"
          ],
          "name": "stdout"
        }
      ]
    },
    {
      "cell_type": "markdown",
      "metadata": {
        "id": "s95UImxR8ba0"
      },
      "source": [
        "Please upload the necessary files (`stock_des.csv`, `ta.csv`, `rev.csv`) in your `project_folder` folder. \n",
        "\n",
        "You can upload the files in your Google Drive `project_folder` via drive.google.com or via below `files.upload()` button. "
      ]
    },
    {
      "cell_type": "code",
      "metadata": {
        "id": "TlfPhFQy6xCt"
      },
      "source": [
        "# # Upload data\n",
        "# from google.colab import files\n",
        "# uploaded = files.upload()"
      ],
      "execution_count": 161,
      "outputs": []
    },
    {
      "cell_type": "markdown",
      "metadata": {
        "id": "v8jQ3A91-lbB"
      },
      "source": [
        "# 2. Install, load the libraries"
      ]
    },
    {
      "cell_type": "code",
      "metadata": {
        "colab": {
          "base_uri": "https://localhost:8080/"
        },
        "id": "utf5exMpHpxo",
        "outputId": "3f9a8f85-11c7-4264-ac9d-0026fefe34a7"
      },
      "source": [
        "!pip install transformers"
      ],
      "execution_count": 162,
      "outputs": [
        {
          "output_type": "stream",
          "text": [
            "Requirement already satisfied: transformers in /usr/local/lib/python3.7/dist-packages (4.6.1)\n",
            "Requirement already satisfied: importlib-metadata; python_version < \"3.8\" in /usr/local/lib/python3.7/dist-packages (from transformers) (4.0.1)\n",
            "Requirement already satisfied: filelock in /usr/local/lib/python3.7/dist-packages (from transformers) (3.0.12)\n",
            "Requirement already satisfied: tokenizers<0.11,>=0.10.1 in /usr/local/lib/python3.7/dist-packages (from transformers) (0.10.3)\n",
            "Requirement already satisfied: tqdm>=4.27 in /usr/local/lib/python3.7/dist-packages (from transformers) (4.41.1)\n",
            "Requirement already satisfied: numpy>=1.17 in /usr/local/lib/python3.7/dist-packages (from transformers) (1.19.5)\n",
            "Requirement already satisfied: sacremoses in /usr/local/lib/python3.7/dist-packages (from transformers) (0.0.45)\n",
            "Requirement already satisfied: huggingface-hub==0.0.8 in /usr/local/lib/python3.7/dist-packages (from transformers) (0.0.8)\n",
            "Requirement already satisfied: packaging in /usr/local/lib/python3.7/dist-packages (from transformers) (20.9)\n",
            "Requirement already satisfied: regex!=2019.12.17 in /usr/local/lib/python3.7/dist-packages (from transformers) (2019.12.20)\n",
            "Requirement already satisfied: requests in /usr/local/lib/python3.7/dist-packages (from transformers) (2.23.0)\n",
            "Requirement already satisfied: typing-extensions>=3.6.4; python_version < \"3.8\" in /usr/local/lib/python3.7/dist-packages (from importlib-metadata; python_version < \"3.8\"->transformers) (3.7.4.3)\n",
            "Requirement already satisfied: zipp>=0.5 in /usr/local/lib/python3.7/dist-packages (from importlib-metadata; python_version < \"3.8\"->transformers) (3.4.1)\n",
            "Requirement already satisfied: six in /usr/local/lib/python3.7/dist-packages (from sacremoses->transformers) (1.15.0)\n",
            "Requirement already satisfied: joblib in /usr/local/lib/python3.7/dist-packages (from sacremoses->transformers) (1.0.1)\n",
            "Requirement already satisfied: click in /usr/local/lib/python3.7/dist-packages (from sacremoses->transformers) (7.1.2)\n",
            "Requirement already satisfied: pyparsing>=2.0.2 in /usr/local/lib/python3.7/dist-packages (from packaging->transformers) (2.4.7)\n",
            "Requirement already satisfied: chardet<4,>=3.0.2 in /usr/local/lib/python3.7/dist-packages (from requests->transformers) (3.0.4)\n",
            "Requirement already satisfied: certifi>=2017.4.17 in /usr/local/lib/python3.7/dist-packages (from requests->transformers) (2020.12.5)\n",
            "Requirement already satisfied: urllib3!=1.25.0,!=1.25.1,<1.26,>=1.21.1 in /usr/local/lib/python3.7/dist-packages (from requests->transformers) (1.24.3)\n",
            "Requirement already satisfied: idna<3,>=2.5 in /usr/local/lib/python3.7/dist-packages (from requests->transformers) (2.10)\n"
          ],
          "name": "stdout"
        }
      ]
    },
    {
      "cell_type": "code",
      "metadata": {
        "id": "qq7NKPXT-par"
      },
      "source": [
        "import numpy as np\n",
        "import pandas as pd\n",
        "import torch\n",
        "import transformers as ppb # pytorch transformers\n",
        "from sklearn.linear_model import LogisticRegression\n",
        "from sklearn.model_selection import cross_val_score\n",
        "from sklearn.model_selection import train_test_split"
      ],
      "execution_count": 163,
      "outputs": []
    },
    {
      "cell_type": "markdown",
      "metadata": {
        "id": "YBDMOw2k-EdP"
      },
      "source": [
        "# 2. STAGE1: Load, merge, clean the data"
      ]
    },
    {
      "cell_type": "code",
      "metadata": {
        "id": "0wPu5e4X70LG"
      },
      "source": [
        "# load the csv files\n",
        "stock_des = pd.read_csv('stock_des.csv')\n",
        "ta = pd.read_csv('ta.csv')\n",
        "rev = pd.read_csv('rev.csv')"
      ],
      "execution_count": 164,
      "outputs": []
    },
    {
      "cell_type": "code",
      "metadata": {
        "id": "hJsJiL0H_aXb"
      },
      "source": [
        "# clean up the column names \n",
        "ta.rename(columns={'Unnamed: 0': 'ticker'}, inplace=True)\n",
        "rev.rename(columns={'Unnamed: 0': 'ticker'}, inplace=True)"
      ],
      "execution_count": 165,
      "outputs": []
    },
    {
      "cell_type": "code",
      "metadata": {
        "id": "e5tv6NbXA1aD"
      },
      "source": [
        "# merge the dataframes into one\n",
        "df = pd.merge(ta, rev, on='ticker')\n",
        "df = pd.merge(df, stock_des, on='ticker')"
      ],
      "execution_count": 166,
      "outputs": []
    },
    {
      "cell_type": "code",
      "metadata": {
        "colab": {
          "base_uri": "https://localhost:8080/"
        },
        "id": "QhEufJnNBJ1j",
        "outputId": "647634d6-4364-40a5-9b29-f38711c575cd"
      },
      "source": [
        "# remove the observations with ta and rev less than 10000 \n",
        "print(df.shape)\n",
        "df = df[(df['Total Assets'] >= 10000) & (df['Total Revenue'] >= 10000)]\n",
        "print(df.shape)"
      ],
      "execution_count": 167,
      "outputs": [
        {
          "output_type": "stream",
          "text": [
            "(2830, 4)\n",
            "(2719, 4)\n"
          ],
          "name": "stdout"
        }
      ]
    },
    {
      "cell_type": "code",
      "metadata": {
        "colab": {
          "base_uri": "https://localhost:8080/",
          "height": 425
        },
        "id": "EZo4KwCLBmm4",
        "outputId": "f781acc3-4899-4713-f13f-034e2a810b4e"
      },
      "source": [
        "# create the assets to revenue ratio \n",
        "df['ar_ratio'] = df['Total Assets']/df['Total Revenue']\n",
        "print(df['ar_ratio'].describe())\n",
        "df.boxplot(column='ar_ratio');"
      ],
      "execution_count": 168,
      "outputs": [
        {
          "output_type": "stream",
          "text": [
            "count     2719.000000\n",
            "mean        22.795845\n",
            "std        386.905317\n",
            "min          0.134677\n",
            "25%          1.242993\n",
            "50%          2.239040\n",
            "75%          7.051726\n",
            "max      18819.875000\n",
            "Name: ar_ratio, dtype: float64\n"
          ],
          "name": "stdout"
        },
        {
          "output_type": "display_data",
          "data": {
            "image/png": "[encoded data removed]",
            "text/plain": [
              "<Figure size 432x288 with 1 Axes>"
            ]
          },
          "metadata": {
            "tags": [],
            "needs_background": "light"
          }
        }
      ]
    },
    {
      "cell_type": "markdown",
      "metadata": {
        "id": "8FRymKdBGwp0"
      },
      "source": [
        "We have 6 outliers with the ratio of 1000+. Let's remove them. "
      ]
    },
    {
      "cell_type": "code",
      "metadata": {
        "colab": {
          "base_uri": "https://localhost:8080/"
        },
        "id": "p37rgo5RG4EJ",
        "outputId": "4b985f2b-815c-487a-deca-a2e2883ecbfc"
      },
      "source": [
        "df = df[df['ar_ratio']<1000]\n",
        "print(df.shape)"
      ],
      "execution_count": 169,
      "outputs": [
        {
          "output_type": "stream",
          "text": [
            "(2713, 5)\n"
          ],
          "name": "stdout"
        }
      ]
    },
    {
      "cell_type": "markdown",
      "metadata": {
        "id": "ZZNjPX04Tcvh"
      },
      "source": [
        "Due to Colab's RAM limitations, limit the description size. We allow 350 characters, which is approximately 50 words and 3+ sentences. In case if you still face RAM issues try terminating other Colab notebooks (Runtime > Manage sessions) or reducing the characters to 300. "
      ]
    },
    {
      "cell_type": "code",
      "metadata": {
        "id": "HxLj5nuvJ-O1",
        "colab": {
          "base_uri": "https://localhost:8080/"
        },
        "outputId": "dde66828-db3a-4440-fea6-db8fafb7e168"
      },
      "source": [
        "df['description'] = df['description'].str.slice(0,350)"
      ],
      "execution_count": 170,
      "outputs": [
        {
          "output_type": "stream",
          "text": [
            "/usr/local/lib/python3.7/dist-packages/ipykernel_launcher.py:1: SettingWithCopyWarning: \n",
            "A value is trying to be set on a copy of a slice from a DataFrame.\n",
            "Try using .loc[row_indexer,col_indexer] = value instead\n",
            "\n",
            "See the caveats in the documentation: https://pandas.pydata.org/pandas-docs/stable/user_guide/indexing.html#returning-a-view-versus-a-copy\n",
            "  \"\"\"Entry point for launching an IPython kernel.\n"
          ],
          "name": "stderr"
        }
      ]
    },
    {
      "cell_type": "markdown",
      "metadata": {
        "id": "cyQA5avIJbw9"
      },
      "source": [
        "Create a binary variable that is 1 if the assets to revenue ratio is above its median and 0 otherwise. \n",
        "\n",
        "This is the **dependent variable** (label) that we'll try to predict. "
      ]
    },
    {
      "cell_type": "code",
      "metadata": {
        "id": "Hry4H3FfI4Cl"
      },
      "source": [
        "df['HIGH_ARR'] = (df['ar_ratio'].gt(df['ar_ratio'].median())).astype(int)"
      ],
      "execution_count": 171,
      "outputs": []
    },
    {
      "cell_type": "code",
      "metadata": {
        "colab": {
          "base_uri": "https://localhost:8080/",
          "height": 203
        },
        "id": "hHsV9zXnJRVy",
        "outputId": "282b4af0-4000-42f8-c8c7-3d5af49039ad"
      },
      "source": [
        "df.sample(5)"
      ],
      "execution_count": 172,
      "outputs": [
        {
          "output_type": "execute_result",
          "data": {
            "text/html": [
              "<div>\n",
              "<style scoped>\n",
              "    .dataframe tbody tr th:only-of-type {\n",
              "        vertical-align: middle;\n",
              "    }\n",
              "\n",
              "    .dataframe tbody tr th {\n",
              "        vertical-align: top;\n",
              "    }\n",
              "\n",
              "    .dataframe thead th {\n",
              "        text-align: right;\n",
              "    }\n",
              "</style>\n",
              "<table border=\"1\" class=\"dataframe\">\n",
              "  <thead>\n",
              "    <tr style=\"text-align: right;\">\n",
              "      <th></th>\n",
              "      <th>ticker</th>\n",
              "      <th>Total Assets</th>\n",
              "      <th>Total Revenue</th>\n",
              "      <th>description</th>\n",
              "      <th>ar_ratio</th>\n",
              "      <th>HIGH_ARR</th>\n",
              "    </tr>\n",
              "  </thead>\n",
              "  <tbody>\n",
              "    <tr>\n",
              "      <th>2732</th>\n",
              "      <td>WINA</td>\n",
              "      <td>3.134320e+07</td>\n",
              "      <td>6.606180e+07</td>\n",
              "      <td>Winmark Corporation operates as a franchisor o...</td>\n",
              "      <td>0.474453</td>\n",
              "      <td>0</td>\n",
              "    </tr>\n",
              "    <tr>\n",
              "      <th>876</th>\n",
              "      <td>ERII</td>\n",
              "      <td>2.043140e+08</td>\n",
              "      <td>1.189860e+08</td>\n",
              "      <td>Energy Recovery, Inc., together with its subsi...</td>\n",
              "      <td>1.717126</td>\n",
              "      <td>0</td>\n",
              "    </tr>\n",
              "    <tr>\n",
              "      <th>545</th>\n",
              "      <td>CLAR</td>\n",
              "      <td>2.806910e+08</td>\n",
              "      <td>2.240070e+08</td>\n",
              "      <td>Clarus Corporation focuses on the outdoor and ...</td>\n",
              "      <td>1.253046</td>\n",
              "      <td>0</td>\n",
              "    </tr>\n",
              "    <tr>\n",
              "      <th>2386</th>\n",
              "      <td>STAY</td>\n",
              "      <td>4.089149e+09</td>\n",
              "      <td>1.027455e+09</td>\n",
              "      <td>Extended Stay America, Inc., together with its...</td>\n",
              "      <td>3.979881</td>\n",
              "      <td>1</td>\n",
              "    </tr>\n",
              "    <tr>\n",
              "      <th>1795</th>\n",
              "      <td>NTB</td>\n",
              "      <td>1.473863e+10</td>\n",
              "      <td>4.941890e+08</td>\n",
              "      <td>The Bank of N.T. Butterfield &amp;amp; Son Limited...</td>\n",
              "      <td>29.823881</td>\n",
              "      <td>1</td>\n",
              "    </tr>\n",
              "  </tbody>\n",
              "</table>\n",
              "</div>"
            ],
            "text/plain": [
              "     ticker  Total Assets  ...   ar_ratio HIGH_ARR\n",
              "2732   WINA  3.134320e+07  ...   0.474453        0\n",
              "876    ERII  2.043140e+08  ...   1.717126        0\n",
              "545    CLAR  2.806910e+08  ...   1.253046        0\n",
              "2386   STAY  4.089149e+09  ...   3.979881        1\n",
              "1795    NTB  1.473863e+10  ...  29.823881        1\n",
              "\n",
              "[5 rows x 6 columns]"
            ]
          },
          "metadata": {
            "tags": []
          },
          "execution_count": 172
        }
      ]
    },
    {
      "cell_type": "code",
      "metadata": {
        "colab": {
          "base_uri": "https://localhost:8080/"
        },
        "id": "BbRrMFIaIwnJ",
        "outputId": "75d9385c-2212-496b-9e00-16afb224a0eb"
      },
      "source": [
        "df.shape"
      ],
      "execution_count": 173,
      "outputs": [
        {
          "output_type": "execute_result",
          "data": {
            "text/plain": [
              "(2713, 6)"
            ]
          },
          "metadata": {
            "tags": []
          },
          "execution_count": 173
        }
      ]
    },
    {
      "cell_type": "markdown",
      "metadata": {
        "id": "2xiIIro9Hd4Z"
      },
      "source": [
        "# Preparing the predictor and DistilBERT model"
      ]
    },
    {
      "cell_type": "markdown",
      "metadata": {
        "id": "45gG8_wRH26d"
      },
      "source": [
        "**Note**. Please enable GPU in Edit > Notebook settings > Hardware accelerator. "
      ]
    },
    {
      "cell_type": "markdown",
      "metadata": {
        "id": "F6L57WrVUdaH"
      },
      "source": [
        "Load a pre-trained BERT model."
      ]
    },
    {
      "cell_type": "code",
      "metadata": {
        "colab": {
          "base_uri": "https://localhost:8080/"
        },
        "id": "K6nQvGTBHYnI",
        "outputId": "ab1da3fa-8b03-4ac7-800d-a8a6f00d0ea4"
      },
      "source": [
        "model_class, tokenizer_class, pretrained_weights = (ppb.DistilBertModel, ppb.DistilBertTokenizer, 'distilbert-base-uncased')\n",
        "\n",
        "# Load pretrained model/tokenizer\n",
        "tokenizer = tokenizer_class.from_pretrained(pretrained_weights)\n",
        "model = model_class.from_pretrained(pretrained_weights)"
      ],
      "execution_count": 174,
      "outputs": [
        {
          "output_type": "stream",
          "text": [
            "Some weights of the model checkpoint at distilbert-base-uncased were not used when initializing DistilBertModel: ['vocab_transform.weight', 'vocab_layer_norm.weight', 'vocab_projector.weight', 'vocab_transform.bias', 'vocab_projector.bias', 'vocab_layer_norm.bias']\n",
            "- This IS expected if you are initializing DistilBertModel from the checkpoint of a model trained on another task or with another architecture (e.g. initializing a BertForSequenceClassification model from a BertForPreTraining model).\n",
            "- This IS NOT expected if you are initializing DistilBertModel from the checkpoint of a model that you expect to be exactly identical (initializing a BertForSequenceClassification model from a BertForSequenceClassification model).\n"
          ],
          "name": "stderr"
        }
      ]
    },
    {
      "cell_type": "markdown",
      "metadata": {
        "id": "WH42D3srUplB"
      },
      "source": [
        "Tokenize the textual data for DistilBERT. "
      ]
    },
    {
      "cell_type": "code",
      "metadata": {
        "id": "_MViVEVpHgc5"
      },
      "source": [
        "tokenized = df['description'].apply((lambda x: tokenizer.encode(x, add_special_tokens=True)))"
      ],
      "execution_count": 175,
      "outputs": []
    },
    {
      "cell_type": "markdown",
      "metadata": {
        "id": "cpgaGZtHU5k5"
      },
      "source": [
        "Pad all lists of tokenized values to the same size. "
      ]
    },
    {
      "cell_type": "code",
      "metadata": {
        "id": "vRHi95SzIUBI"
      },
      "source": [
        "max_len = 0\n",
        "for i in tokenized.values:\n",
        "    if len(i) > max_len:\n",
        "        max_len = len(i)\n",
        "\n",
        "padded = np.array([i + [0]*(max_len-len(i)) for i in tokenized.values])"
      ],
      "execution_count": 176,
      "outputs": []
    },
    {
      "cell_type": "code",
      "metadata": {
        "colab": {
          "base_uri": "https://localhost:8080/"
        },
        "id": "hoKj2ZEcIVEV",
        "outputId": "620f76f7-796f-41a7-fccb-a6bf1751b579"
      },
      "source": [
        "np.array(padded).shape"
      ],
      "execution_count": 177,
      "outputs": [
        {
          "output_type": "execute_result",
          "data": {
            "text/plain": [
              "(2713, 109)"
            ]
          },
          "metadata": {
            "tags": []
          },
          "execution_count": 177
        }
      ]
    },
    {
      "cell_type": "markdown",
      "metadata": {
        "id": "wB4v0BX5VmHH"
      },
      "source": [
        "Create attention mask variable for BERT to ignore (mask) the padding when it's processing its input."
      ]
    },
    {
      "cell_type": "code",
      "metadata": {
        "colab": {
          "base_uri": "https://localhost:8080/"
        },
        "id": "FN-YEkmAIX7M",
        "outputId": "8f2de90d-5b54-4bea-db72-b29c9e4d5d45"
      },
      "source": [
        "attention_mask = np.where(padded != 0, 1, 0)\n",
        "attention_mask.shape"
      ],
      "execution_count": 178,
      "outputs": [
        {
          "output_type": "execute_result",
          "data": {
            "text/plain": [
              "(2713, 109)"
            ]
          },
          "metadata": {
            "tags": []
          },
          "execution_count": 178
        }
      ]
    },
    {
      "cell_type": "markdown",
      "metadata": {
        "id": "foOCjD32Wv-o"
      },
      "source": [
        "# DistilBERT model"
      ]
    },
    {
      "cell_type": "markdown",
      "metadata": {
        "id": "FcwKErnPXdJW"
      },
      "source": [
        "We run the pretrained DistilBERT model on the prepared predictor and keep the result in `last_hidden_states` variable. "
      ]
    },
    {
      "cell_type": "code",
      "metadata": {
        "id": "E7q78fWpIZmE"
      },
      "source": [
        "input_ids = torch.tensor(padded)  \n",
        "attention_mask = torch.tensor(attention_mask)\n",
        "\n",
        "with torch.no_grad():\n",
        "    last_hidden_states = model(input_ids, attention_mask=attention_mask)"
      ],
      "execution_count": 179,
      "outputs": []
    },
    {
      "cell_type": "markdown",
      "metadata": {
        "id": "Th0yBidYIcLn"
      },
      "source": [
        "# Logistic regression model \n",
        "\n"
      ]
    },
    {
      "cell_type": "markdown",
      "metadata": {
        "id": "VpUl1blQZhE2"
      },
      "source": [
        "Keep the first layer of the hidden states and assign the outcome variable to `labels`. "
      ]
    },
    {
      "cell_type": "code",
      "metadata": {
        "id": "TS8Qq-t5IhX2"
      },
      "source": [
        "features = last_hidden_states[0][:,0,:].numpy()\n",
        "labels = df['HIGH_ARR']"
      ],
      "execution_count": 180,
      "outputs": []
    },
    {
      "cell_type": "markdown",
      "metadata": {
        "id": "UmpGJg0OZyom"
      },
      "source": [
        "Split the data in train and test subsets, train the Logistic Regression on train set and evaluate its accuracy on the test set. "
      ]
    },
    {
      "cell_type": "code",
      "metadata": {
        "colab": {
          "base_uri": "https://localhost:8080/"
        },
        "id": "T9M0Vj41Im1o",
        "outputId": "2723d113-9f97-48bc-9e24-63ee466d5420"
      },
      "source": [
        "train_features, test_features, train_labels, test_labels = train_test_split(features, labels)\n",
        "lr_clf = LogisticRegression(max_iter=5000)\n",
        "lr_clf.fit(train_features, train_labels)\n",
        "print(lr_clf.score(test_features, test_labels))"
      ],
      "execution_count": 181,
      "outputs": [
        {
          "output_type": "stream",
          "text": [
            "0.8379970544918999\n"
          ],
          "name": "stdout"
        }
      ]
    },
    {
      "cell_type": "markdown",
      "metadata": {
        "id": "Lmdk9NS4Z_1e"
      },
      "source": [
        "Check if this approach works better than a random guess (0.8 > 0.5). "
      ]
    },
    {
      "cell_type": "code",
      "metadata": {
        "colab": {
          "base_uri": "https://localhost:8080/"
        },
        "id": "TxD6rghdKein",
        "outputId": "b815abdf-0f14-4b09-d847-a9fdb9574282"
      },
      "source": [
        "from sklearn.dummy import DummyClassifier\n",
        "clf = DummyClassifier()\n",
        "\n",
        "scores = cross_val_score(clf, train_features, train_labels)\n",
        "print(\"Dummy classifier score: %0.3f (+/- %0.2f)\" % (scores.mean(), scores.std() * 2))"
      ],
      "execution_count": 182,
      "outputs": [
        {
          "output_type": "stream",
          "text": [
            "Dummy classifier score: 0.512 (+/- 0.03)\n"
          ],
          "name": "stdout"
        },
        {
          "output_type": "stream",
          "text": [
            "/usr/local/lib/python3.7/dist-packages/sklearn/dummy.py:132: FutureWarning: The default value of strategy will change from stratified to prior in 0.24.\n",
            "  \"stratified to prior in 0.24.\", FutureWarning)\n"
          ],
          "name": "stderr"
        }
      ]
    },
    {
      "cell_type": "markdown",
      "metadata": {
        "id": "0z8HjgLCYaEA"
      },
      "source": [
        "#Confusion Matrix(\"HIGH_ARR\")"
      ]
    },
    {
      "cell_type": "code",
      "metadata": {
        "id": "DwCPqMmauTRA"
      },
      "source": [
        "y_pred=lr_clf.predict(test_features)"
      ],
      "execution_count": 183,
      "outputs": []
    },
    {
      "cell_type": "markdown",
      "metadata": {
        "id": "GoBAE7h8tW45"
      },
      "source": [
        "1. print the confusion matrix in the form of the array object"
      ]
    },
    {
      "cell_type": "code",
      "metadata": {
        "colab": {
          "base_uri": "https://localhost:8080/"
        },
        "id": "25Lc5B8CYKu5",
        "outputId": "54dd547a-dace-43eb-99eb-87c8aeee1e57"
      },
      "source": [
        "#1. print the confusion matrix in the form of the array object\n",
        "\n",
        "from sklearn import metrics\n",
        "cnf_matrix = metrics.confusion_matrix(y_pred, test_labels)\n",
        "cnf_matrix\n"
      ],
      "execution_count": 184,
      "outputs": [
        {
          "output_type": "execute_result",
          "data": {
            "text/plain": [
              "array([[286,  60],\n",
              "       [ 50, 283]])"
            ]
          },
          "metadata": {
            "tags": []
          },
          "execution_count": 184
        }
      ]
    },
    {
      "cell_type": "markdown",
      "metadata": {
        "id": "Sscfma1mtZZd"
      },
      "source": [
        "2.visualizing confusion matrix using heatmap"
      ]
    },
    {
      "cell_type": "code",
      "metadata": {
        "colab": {
          "base_uri": "https://localhost:8080/",
          "height": 342
        },
        "id": "gVugaURXxr24",
        "outputId": "ad1f85c6-2fe9-4208-ac4e-ed411f865efb"
      },
      "source": [
        "#2.visualizing confusion matrix using heatmap\n",
        "\n",
        "import numpy as np\n",
        "import matplotlib.pyplot as plt\n",
        "import seaborn as sns\n",
        "%matplotlib inline\n",
        "\n",
        "class_names=[0,1] # name  of classes\n",
        "fig, ax = plt.subplots()\n",
        "tick_marks = np.arange(len(class_names))\n",
        "plt.xticks(tick_marks, class_names)\n",
        "plt.yticks(tick_marks, class_names)\n",
        "# create heatmap\n",
        "sns.heatmap(pd.DataFrame(cnf_matrix), annot=True, cmap=\"YlGnBu\" ,fmt='g')\n",
        "ax.xaxis.set_label_position(\"top\")\n",
        "plt.tight_layout()\n",
        "plt.title('Confusion matrix', y=1.1)\n",
        "plt.ylabel('Actual label')\n",
        "plt.xlabel('Predicted label')"
      ],
      "execution_count": 185,
      "outputs": [
        {
          "output_type": "execute_result",
          "data": {
            "text/plain": [
              "Text(0.5, 257.44, 'Predicted label')"
            ]
          },
          "metadata": {
            "tags": []
          },
          "execution_count": 185
        },
        {
          "output_type": "display_data",
          "data": {
            "image/png": "[encoded data removed]",
            "text/plain": [
              "<Figure size 432x288 with 2 Axes>"
            ]
          },
          "metadata": {
            "tags": [],
            "needs_background": "light"
          }
        }
      ]
    },
    {
      "cell_type": "markdown",
      "metadata": {
        "id": "eluI2mYutcmk"
      },
      "source": [
        "3.Check evaluation Metrics"
      ]
    },
    {
      "cell_type": "code",
      "metadata": {
        "id": "xe7Rk_n4VopJ"
      },
      "source": [
        "#Look at the True Postive and True Negative:\n",
        "TP = 283\n",
        "TN = 286\n",
        "\n",
        "# Look at the False Postive and False Negative\n",
        "\n",
        "FP = 60\n",
        "FN = 50"
      ],
      "execution_count": 221,
      "outputs": []
    },
    {
      "cell_type": "code",
      "metadata": {
        "colab": {
          "base_uri": "https://localhost:8080/"
        },
        "id": "iZz3zhPux_MY",
        "outputId": "6171dfc0-56ce-4919-f309-d934cc2d30de"
      },
      "source": [
        "#Evaluation Metrics\n",
        "\n",
        "print(\"Accuracy:\",metrics.accuracy_score(test_labels, y_pred))\n",
        "print(\"Precision:\",metrics.precision_score(test_labels, y_pred))\n",
        "print(\"Recall:\",metrics.recall_score(test_labels, y_pred))\n",
        "print(\"Specificity:\", TN/(TN+FP))"
      ],
      "execution_count": 228,
      "outputs": [
        {
          "output_type": "stream",
          "text": [
            "Accuracy: 0.8379970544918999\n",
            "Precision: 0.8498498498498499\n",
            "Recall: 0.8250728862973761\n",
            "Specificity: 0.8265895953757225\n"
          ],
          "name": "stdout"
        }
      ]
    },
    {
      "cell_type": "markdown",
      "metadata": {
        "id": "fEM15FmByLdf"
      },
      "source": [
        "#Interpretation of the confusion matrix(HIGH_ARR) :\n",
        "\n",
        "The DistilBERT model has succesfully predicted 286 companies with high asset intesity and 286 companies with low asset intensity based on the business descriptions. And the model fails to identify the other 60 high asset intensity companies, and wrongly classified 50 low-asset-indensity companies to the \"high asset intensity\" group.\n",
        "\n",
        "================================================================\n",
        "\n",
        "Overall, the DistilBERT model performs very well. During our evaluation with the test data, the model correctly predict whether the company belongs to the \"high asset intensity group\" 84% of the time. \n",
        "\n",
        "* (Precision)\n",
        "The model correctly predicted 85% of the \"high-asset intensity\" companies out of all the predictive \"high asset intensity\" classes.\n",
        "\n",
        "* (Recall)\n",
        "The model correctly predicted 82% of the \"high-asset intensity\" companies Out of all the true\"high-asset intensity\"companies.\n",
        "\n",
        "* (Specificity)\n",
        "The model correctly predicted 83% of the \"low-asset intensity\" companies out of all the true \" low-asset intensity\"companies.\n",
        "\n",
        "Thus, the model seems to perform quite well for both classifying both \"high or low\" asset intensity companies. \n"
      ]
    },
    {
      "cell_type": "markdown",
      "metadata": {
        "id": "UAH-7_6v3m9g"
      },
      "source": [
        "#STAGE 2: Predict R&D intensity"
      ]
    },
    {
      "cell_type": "code",
      "metadata": {
        "id": "N-lXRmofyNfB"
      },
      "source": [
        "data = pd.read_csv(\"assign1.csv\")"
      ],
      "execution_count": 187,
      "outputs": []
    },
    {
      "cell_type": "code",
      "metadata": {
        "colab": {
          "base_uri": "https://localhost:8080/"
        },
        "id": "wjIyEFyIIt7y",
        "outputId": "8d2728c0-3fe7-4f4b-9a50-8e4c6419a86d"
      },
      "source": [
        "data.shape"
      ],
      "execution_count": 188,
      "outputs": [
        {
          "output_type": "execute_result",
          "data": {
            "text/plain": [
              "(2684, 3)"
            ]
          },
          "metadata": {
            "tags": []
          },
          "execution_count": 188
        }
      ]
    },
    {
      "cell_type": "markdown",
      "metadata": {
        "id": "Q_fKsXfG5NRy"
      },
      "source": [
        "All the observations with sales less than or equal zero has been removed in the \"assign1.csv\" file."
      ]
    },
    {
      "cell_type": "code",
      "metadata": {
        "colab": {
          "base_uri": "https://localhost:8080/"
        },
        "id": "O9OEHX3F3yG5",
        "outputId": "dd92704c-fc62-434b-db55-40b6795c7183"
      },
      "source": [
        "print(data.head())\n",
        "data.sale.describe()"
      ],
      "execution_count": 189,
      "outputs": [
        {
          "output_type": "stream",
          "text": [
            "    tic       sale     xrd\n",
            "0   AAL  17337.000     NaN\n",
            "1  CECE    316.011     NaN\n",
            "2   PNW   3586.982     NaN\n",
            "3   PRG   2484.595     NaN\n",
            "4   ABT  34608.000  2420.0\n"
          ],
          "name": "stdout"
        },
        {
          "output_type": "execute_result",
          "data": {
            "text/plain": [
              "count      2684.000000\n",
              "mean       5739.450425\n",
              "std       22254.520184\n",
              "min           0.024000\n",
              "25%         277.027000\n",
              "50%         964.943500\n",
              "75%        3242.988000\n",
              "max      556933.000000\n",
              "Name: sale, dtype: float64"
            ]
          },
          "metadata": {
            "tags": []
          },
          "execution_count": 189
        }
      ]
    },
    {
      "cell_type": "markdown",
      "metadata": {
        "id": "J2fD-LIA31yr"
      },
      "source": [
        "First, \"NaN\" in the xrd column should be coded as 0"
      ]
    },
    {
      "cell_type": "code",
      "metadata": {
        "colab": {
          "base_uri": "https://localhost:8080/"
        },
        "id": "Z8eeLrI730Rg",
        "outputId": "dcc71b94-3ce8-42fd-b6a1-d8afd9a7fe22"
      },
      "source": [
        "data['xrd']= data['xrd'].fillna(0)\n",
        "print(data.head())\n",
        "data.info()"
      ],
      "execution_count": 190,
      "outputs": [
        {
          "output_type": "stream",
          "text": [
            "    tic       sale     xrd\n",
            "0   AAL  17337.000     0.0\n",
            "1  CECE    316.011     0.0\n",
            "2   PNW   3586.982     0.0\n",
            "3   PRG   2484.595     0.0\n",
            "4   ABT  34608.000  2420.0\n",
            "<class 'pandas.core.frame.DataFrame'>\n",
            "RangeIndex: 2684 entries, 0 to 2683\n",
            "Data columns (total 3 columns):\n",
            " #   Column  Non-Null Count  Dtype  \n",
            "---  ------  --------------  -----  \n",
            " 0   tic     2684 non-null   object \n",
            " 1   sale    2684 non-null   float64\n",
            " 2   xrd     2684 non-null   float64\n",
            "dtypes: float64(2), object(1)\n",
            "memory usage: 63.0+ KB\n"
          ],
          "name": "stdout"
        }
      ]
    },
    {
      "cell_type": "markdown",
      "metadata": {
        "id": "hWZX1fmb4YNJ"
      },
      "source": [
        "Next, create a new variable called\"RD_intensity\"which equals XDR/SALE."
      ]
    },
    {
      "cell_type": "code",
      "metadata": {
        "colab": {
          "base_uri": "https://localhost:8080/",
          "height": 203
        },
        "id": "NCypS5zw4sMI",
        "outputId": "90fb9e62-38fc-49e7-d80d-24851da0a406"
      },
      "source": [
        "data['RD_intensity']= data['xrd']/data['sale']\n",
        "data.head()"
      ],
      "execution_count": 191,
      "outputs": [
        {
          "output_type": "execute_result",
          "data": {
            "text/html": [
              "<div>\n",
              "<style scoped>\n",
              "    .dataframe tbody tr th:only-of-type {\n",
              "        vertical-align: middle;\n",
              "    }\n",
              "\n",
              "    .dataframe tbody tr th {\n",
              "        vertical-align: top;\n",
              "    }\n",
              "\n",
              "    .dataframe thead th {\n",
              "        text-align: right;\n",
              "    }\n",
              "</style>\n",
              "<table border=\"1\" class=\"dataframe\">\n",
              "  <thead>\n",
              "    <tr style=\"text-align: right;\">\n",
              "      <th></th>\n",
              "      <th>tic</th>\n",
              "      <th>sale</th>\n",
              "      <th>xrd</th>\n",
              "      <th>RD_intensity</th>\n",
              "    </tr>\n",
              "  </thead>\n",
              "  <tbody>\n",
              "    <tr>\n",
              "      <th>0</th>\n",
              "      <td>AAL</td>\n",
              "      <td>17337.000</td>\n",
              "      <td>0.0</td>\n",
              "      <td>0.000000</td>\n",
              "    </tr>\n",
              "    <tr>\n",
              "      <th>1</th>\n",
              "      <td>CECE</td>\n",
              "      <td>316.011</td>\n",
              "      <td>0.0</td>\n",
              "      <td>0.000000</td>\n",
              "    </tr>\n",
              "    <tr>\n",
              "      <th>2</th>\n",
              "      <td>PNW</td>\n",
              "      <td>3586.982</td>\n",
              "      <td>0.0</td>\n",
              "      <td>0.000000</td>\n",
              "    </tr>\n",
              "    <tr>\n",
              "      <th>3</th>\n",
              "      <td>PRG</td>\n",
              "      <td>2484.595</td>\n",
              "      <td>0.0</td>\n",
              "      <td>0.000000</td>\n",
              "    </tr>\n",
              "    <tr>\n",
              "      <th>4</th>\n",
              "      <td>ABT</td>\n",
              "      <td>34608.000</td>\n",
              "      <td>2420.0</td>\n",
              "      <td>0.069926</td>\n",
              "    </tr>\n",
              "  </tbody>\n",
              "</table>\n",
              "</div>"
            ],
            "text/plain": [
              "    tic       sale     xrd  RD_intensity\n",
              "0   AAL  17337.000     0.0      0.000000\n",
              "1  CECE    316.011     0.0      0.000000\n",
              "2   PNW   3586.982     0.0      0.000000\n",
              "3   PRG   2484.595     0.0      0.000000\n",
              "4   ABT  34608.000  2420.0      0.069926"
            ]
          },
          "metadata": {
            "tags": []
          },
          "execution_count": 191
        }
      ]
    },
    {
      "cell_type": "markdown",
      "metadata": {
        "id": "mdi3XcYm57FZ"
      },
      "source": [
        "Inspect the variable\"RD_intensity\". The statistics seem reasonable, so we move on to create \"HIGH_INNOVATION\"variable\".\n",
        "\n"
      ]
    },
    {
      "cell_type": "code",
      "metadata": {
        "colab": {
          "base_uri": "https://localhost:8080/",
          "height": 425
        },
        "id": "FdtJ4ZCo6A7w",
        "outputId": "4807bcc7-1d5a-4c80-ea05-39c4fad94265"
      },
      "source": [
        "print(data['RD_intensity'].describe())\n",
        "data.boxplot(column='RD_intensity');"
      ],
      "execution_count": 192,
      "outputs": [
        {
          "output_type": "stream",
          "text": [
            "count    2684.000000\n",
            "mean        3.796761\n",
            "std        90.496557\n",
            "min         0.000000\n",
            "25%         0.000000\n",
            "50%         0.000000\n",
            "75%         0.064922\n",
            "max      4299.125000\n",
            "Name: RD_intensity, dtype: float64\n"
          ],
          "name": "stdout"
        },
        {
          "output_type": "display_data",
          "data": {
            "image/png": "[encoded data removed]",
            "text/plain": [
              "<Figure size 432x288 with 1 Axes>"
            ]
          },
          "metadata": {
            "tags": [],
            "needs_background": "light"
          }
        }
      ]
    },
    {
      "cell_type": "markdown",
      "metadata": {
        "id": "ZQ4KIA9buRDL"
      },
      "source": [
        "After inspecting the outliers, the numbers seem reasonable."
      ]
    },
    {
      "cell_type": "code",
      "metadata": {
        "colab": {
          "base_uri": "https://localhost:8080/",
          "height": 80
        },
        "id": "ZqgyikMp6qOZ",
        "outputId": "f5b2673b-e824-4ead-f243-0e075eebca5c"
      },
      "source": [
        "data[data['RD_intensity']==4299.125000]"
      ],
      "execution_count": 193,
      "outputs": [
        {
          "output_type": "execute_result",
          "data": {
            "text/html": [
              "<div>\n",
              "<style scoped>\n",
              "    .dataframe tbody tr th:only-of-type {\n",
              "        vertical-align: middle;\n",
              "    }\n",
              "\n",
              "    .dataframe tbody tr th {\n",
              "        vertical-align: top;\n",
              "    }\n",
              "\n",
              "    .dataframe thead th {\n",
              "        text-align: right;\n",
              "    }\n",
              "</style>\n",
              "<table border=\"1\" class=\"dataframe\">\n",
              "  <thead>\n",
              "    <tr style=\"text-align: right;\">\n",
              "      <th></th>\n",
              "      <th>tic</th>\n",
              "      <th>sale</th>\n",
              "      <th>xrd</th>\n",
              "      <th>RD_intensity</th>\n",
              "    </tr>\n",
              "  </thead>\n",
              "  <tbody>\n",
              "    <tr>\n",
              "      <th>1695</th>\n",
              "      <td>BEAM</td>\n",
              "      <td>0.024</td>\n",
              "      <td>103.179</td>\n",
              "      <td>4299.125</td>\n",
              "    </tr>\n",
              "  </tbody>\n",
              "</table>\n",
              "</div>"
            ],
            "text/plain": [
              "       tic   sale      xrd  RD_intensity\n",
              "1695  BEAM  0.024  103.179      4299.125"
            ]
          },
          "metadata": {
            "tags": []
          },
          "execution_count": 193
        }
      ]
    },
    {
      "cell_type": "code",
      "metadata": {
        "colab": {
          "base_uri": "https://localhost:8080/"
        },
        "id": "KMhYI7cv7ux0",
        "outputId": "1ec59e20-d1c5-4dce-a106-4aacfd556a28"
      },
      "source": [
        "data[data['RD_intensity']!=4299.125000]['RD_intensity'].describe()"
      ],
      "execution_count": 194,
      "outputs": [
        {
          "output_type": "execute_result",
          "data": {
            "text/plain": [
              "count    2683.000000\n",
              "mean        2.195819\n",
              "std        36.207454\n",
              "min         0.000000\n",
              "25%         0.000000\n",
              "50%         0.000000\n",
              "75%         0.064485\n",
              "max      1091.421053\n",
              "Name: RD_intensity, dtype: float64"
            ]
          },
          "metadata": {
            "tags": []
          },
          "execution_count": 194
        }
      ]
    },
    {
      "cell_type": "markdown",
      "metadata": {
        "id": "6gjjFqEZ796B"
      },
      "source": [
        "**Create a new label variable \"HIGH_INNOVATION\".**\n",
        "\n",
        "\"HIGH_INNOVATION\" equals 1 if the company's R&D spending is above the median value(zero, in this case). \n",
        "\n",
        "\"HIGH_INNOVATION\" equals 0 if the company's R&D spending is not above the median value(zero, in this case). \n"
      ]
    },
    {
      "cell_type": "code",
      "metadata": {
        "id": "6wCVAGSM78qU"
      },
      "source": [
        "data['HIGH_INNOVATION']= (data['RD_intensity'].gt(data['RD_intensity'].median())).astype(int)\n"
      ],
      "execution_count": 195,
      "outputs": []
    },
    {
      "cell_type": "code",
      "metadata": {
        "colab": {
          "base_uri": "https://localhost:8080/"
        },
        "id": "vhCmE2-c8m_o",
        "outputId": "c893f39d-60ae-4a5a-fccf-d6e5efb5e27f"
      },
      "source": [
        "#Have a look at the data\n",
        "print(data.head())\n",
        "\n",
        "print(data.describe())"
      ],
      "execution_count": 196,
      "outputs": [
        {
          "output_type": "stream",
          "text": [
            "    tic       sale     xrd  RD_intensity  HIGH_INNOVATION\n",
            "0   AAL  17337.000     0.0      0.000000                0\n",
            "1  CECE    316.011     0.0      0.000000                0\n",
            "2   PNW   3586.982     0.0      0.000000                0\n",
            "3   PRG   2484.595     0.0      0.000000                0\n",
            "4   ABT  34608.000  2420.0      0.069926                1\n",
            "                sale           xrd  RD_intensity  HIGH_INNOVATION\n",
            "count    2684.000000   2684.000000   2684.000000      2684.000000\n",
            "mean     5739.450425    184.456412      3.796761         0.424739\n",
            "std     22254.520184   1423.600794     90.496557         0.494395\n",
            "min         0.024000      0.000000      0.000000         0.000000\n",
            "25%       277.027000      0.000000      0.000000         0.000000\n",
            "50%       964.943500      0.000000      0.000000         0.000000\n",
            "75%      3242.988000     48.233000      0.064922         1.000000\n",
            "max    556933.000000  42740.000000   4299.125000         1.000000\n"
          ],
          "name": "stdout"
        }
      ]
    },
    {
      "cell_type": "markdown",
      "metadata": {
        "id": "AoL-dRDjBjUQ"
      },
      "source": [
        "#Train the distilBERT model to predict \"HIGH_INNOVATION\""
      ]
    },
    {
      "cell_type": "markdown",
      "metadata": {
        "id": "tE8_jM0xq3ca"
      },
      "source": [
        "Before training the distilBERT model, we need to merge the dataframe with \"HIGH_INNOVATION\" variable and the dataframe with \"HIGH_ARR\"variable using \"TICKER” information. \n",
        "\n",
        "The dataframe variable \"df_des\" is created. It contains \"business descriptions\",  \"HIGH_ARR\", and \"HIGH_INNOVATION\" , which are the variables we need to perform futher analysis."
      ]
    },
    {
      "cell_type": "code",
      "metadata": {
        "id": "W6rzfHT0Uh_B"
      },
      "source": [
        "df_des = pd.merge(data,df,left_on='tic',right_on='ticker')"
      ],
      "execution_count": 197,
      "outputs": []
    },
    {
      "cell_type": "code",
      "metadata": {
        "colab": {
          "base_uri": "https://localhost:8080/",
          "height": 203
        },
        "id": "8gwVKuIAUr6h",
        "outputId": "d1acba2d-0664-4da3-9eac-1918602aca57"
      },
      "source": [
        "df_des.head()\n"
      ],
      "execution_count": 198,
      "outputs": [
        {
          "output_type": "execute_result",
          "data": {
            "text/html": [
              "<div>\n",
              "<style scoped>\n",
              "    .dataframe tbody tr th:only-of-type {\n",
              "        vertical-align: middle;\n",
              "    }\n",
              "\n",
              "    .dataframe tbody tr th {\n",
              "        vertical-align: top;\n",
              "    }\n",
              "\n",
              "    .dataframe thead th {\n",
              "        text-align: right;\n",
              "    }\n",
              "</style>\n",
              "<table border=\"1\" class=\"dataframe\">\n",
              "  <thead>\n",
              "    <tr style=\"text-align: right;\">\n",
              "      <th></th>\n",
              "      <th>tic</th>\n",
              "      <th>sale</th>\n",
              "      <th>xrd</th>\n",
              "      <th>RD_intensity</th>\n",
              "      <th>HIGH_INNOVATION</th>\n",
              "      <th>ticker</th>\n",
              "      <th>Total Assets</th>\n",
              "      <th>Total Revenue</th>\n",
              "      <th>description</th>\n",
              "      <th>ar_ratio</th>\n",
              "      <th>HIGH_ARR</th>\n",
              "    </tr>\n",
              "  </thead>\n",
              "  <tbody>\n",
              "    <tr>\n",
              "      <th>0</th>\n",
              "      <td>AAL</td>\n",
              "      <td>17337.000</td>\n",
              "      <td>0.0</td>\n",
              "      <td>0.000000</td>\n",
              "      <td>0</td>\n",
              "      <td>AAL</td>\n",
              "      <td>6.200800e+10</td>\n",
              "      <td>1.733700e+10</td>\n",
              "      <td>American Airlines Group Inc., through its subs...</td>\n",
              "      <td>3.576628</td>\n",
              "      <td>1</td>\n",
              "    </tr>\n",
              "    <tr>\n",
              "      <th>1</th>\n",
              "      <td>CECE</td>\n",
              "      <td>316.011</td>\n",
              "      <td>0.0</td>\n",
              "      <td>0.000000</td>\n",
              "      <td>0</td>\n",
              "      <td>CECE</td>\n",
              "      <td>4.193140e+08</td>\n",
              "      <td>3.160110e+08</td>\n",
              "      <td>CECO Environmental Corp. provides industrial a...</td>\n",
              "      <td>1.326897</td>\n",
              "      <td>0</td>\n",
              "    </tr>\n",
              "    <tr>\n",
              "      <th>2</th>\n",
              "      <td>PNW</td>\n",
              "      <td>3586.982</td>\n",
              "      <td>0.0</td>\n",
              "      <td>0.000000</td>\n",
              "      <td>0</td>\n",
              "      <td>PNW</td>\n",
              "      <td>2.002042e+10</td>\n",
              "      <td>3.586982e+09</td>\n",
              "      <td>Pinnacle West Capital Corporation, through its...</td>\n",
              "      <td>5.581411</td>\n",
              "      <td>1</td>\n",
              "    </tr>\n",
              "    <tr>\n",
              "      <th>3</th>\n",
              "      <td>PRG</td>\n",
              "      <td>2484.595</td>\n",
              "      <td>0.0</td>\n",
              "      <td>0.000000</td>\n",
              "      <td>0</td>\n",
              "      <td>PRG</td>\n",
              "      <td>1.317404e+09</td>\n",
              "      <td>2.484595e+09</td>\n",
              "      <td>PROG Holdings, Inc. operates as an omnichannel...</td>\n",
              "      <td>0.530229</td>\n",
              "      <td>0</td>\n",
              "    </tr>\n",
              "    <tr>\n",
              "      <th>4</th>\n",
              "      <td>ABT</td>\n",
              "      <td>34608.000</td>\n",
              "      <td>2420.0</td>\n",
              "      <td>0.069926</td>\n",
              "      <td>1</td>\n",
              "      <td>ABT</td>\n",
              "      <td>7.254800e+10</td>\n",
              "      <td>3.460800e+10</td>\n",
              "      <td>Abbott Laboratories discovers, develops, manuf...</td>\n",
              "      <td>2.096278</td>\n",
              "      <td>0</td>\n",
              "    </tr>\n",
              "  </tbody>\n",
              "</table>\n",
              "</div>"
            ],
            "text/plain": [
              "    tic       sale  ...  ar_ratio  HIGH_ARR\n",
              "0   AAL  17337.000  ...  3.576628         1\n",
              "1  CECE    316.011  ...  1.326897         0\n",
              "2   PNW   3586.982  ...  5.581411         1\n",
              "3   PRG   2484.595  ...  0.530229         0\n",
              "4   ABT  34608.000  ...  2.096278         0\n",
              "\n",
              "[5 rows x 11 columns]"
            ]
          },
          "metadata": {
            "tags": []
          },
          "execution_count": 198
        }
      ]
    },
    {
      "cell_type": "code",
      "metadata": {
        "colab": {
          "base_uri": "https://localhost:8080/"
        },
        "id": "0JYt8cJkU2MJ",
        "outputId": "9ae22d86-9b7d-4575-dc73-c87439739f6d"
      },
      "source": [
        "df_des.shape"
      ],
      "execution_count": 199,
      "outputs": [
        {
          "output_type": "execute_result",
          "data": {
            "text/plain": [
              "(2639, 11)"
            ]
          },
          "metadata": {
            "tags": []
          },
          "execution_count": 199
        }
      ]
    },
    {
      "cell_type": "markdown",
      "metadata": {
        "id": "QgI9DN5quhBR"
      },
      "source": [
        "Tokenize the textual data for DistilBERT."
      ]
    },
    {
      "cell_type": "code",
      "metadata": {
        "id": "yp4iP9MlDU8K"
      },
      "source": [
        "tokenized = df_des['description'].apply((lambda x: tokenizer.encode(x, add_special_tokens=True)))"
      ],
      "execution_count": 201,
      "outputs": []
    },
    {
      "cell_type": "markdown",
      "metadata": {
        "id": "lqVGffwhurP2"
      },
      "source": [
        "Pad all lists of tokenized values to the same size."
      ]
    },
    {
      "cell_type": "code",
      "metadata": {
        "id": "pSCM0pqoDfjo"
      },
      "source": [
        "max_len = 0\n",
        "for i in tokenized.values:\n",
        "    if len(i) > max_len:\n",
        "        max_len = len(i)\n",
        "\n",
        "padded_RD = np.array([i + [0]*(max_len-len(i)) for i in tokenized.values])"
      ],
      "execution_count": 202,
      "outputs": []
    },
    {
      "cell_type": "markdown",
      "metadata": {
        "id": "qdj33dBfus25"
      },
      "source": [
        "Create attention mask variable for BERT to ignore (mask) the padding when it's processing its input."
      ]
    },
    {
      "cell_type": "code",
      "metadata": {
        "colab": {
          "base_uri": "https://localhost:8080/"
        },
        "id": "JpR8a1UjDnCw",
        "outputId": "0cdfeae1-fab4-4b51-82f1-82440f16b6cb"
      },
      "source": [
        "attention_mask = np.where(padded_RD  != 0, 1, 0)\n",
        "attention_mask.shape"
      ],
      "execution_count": 203,
      "outputs": [
        {
          "output_type": "execute_result",
          "data": {
            "text/plain": [
              "(2639, 109)"
            ]
          },
          "metadata": {
            "tags": []
          },
          "execution_count": 203
        }
      ]
    },
    {
      "cell_type": "markdown",
      "metadata": {
        "id": "HY7-X_Q0sf7p"
      },
      "source": [
        "We run the pretrained DistilBERT model on the prepared predictor and keep the result in `last_hidden_states` variable. "
      ]
    },
    {
      "cell_type": "code",
      "metadata": {
        "id": "kYkdOTVODsX4"
      },
      "source": [
        "input_ids_RD = torch.tensor(padded_RD)  \n",
        "attention_mask = torch.tensor(attention_mask)\n",
        "\n",
        "with torch.no_grad():\n",
        "    last_hidden_states = model(input_ids_RD, attention_mask=attention_mask)"
      ],
      "execution_count": 204,
      "outputs": []
    },
    {
      "cell_type": "markdown",
      "metadata": {
        "id": "SoYd-venspNR"
      },
      "source": [
        "# Logistic regression model \n",
        "\n",
        "Assign the\" HIGH_INNOVATION\" as the outcome variable"
      ]
    },
    {
      "cell_type": "code",
      "metadata": {
        "id": "LOv-6MBjBcQo"
      },
      "source": [
        "features_both = last_hidden_states[0][:,0,:].numpy()\n",
        "labels_RD = df_des['HIGH_INNOVATION']"
      ],
      "execution_count": 205,
      "outputs": []
    },
    {
      "cell_type": "markdown",
      "metadata": {
        "id": "iu_9GnBAs8WK"
      },
      "source": [
        "Split the data in train and test subsets, train the Logistic Regression on train set and evaluate its accuracy on the test set. "
      ]
    },
    {
      "cell_type": "code",
      "metadata": {
        "colab": {
          "base_uri": "https://localhost:8080/"
        },
        "id": "RqB2m7MoBcJw",
        "outputId": "d70b0caf-580a-440e-b292-17e25e2c2c10"
      },
      "source": [
        "train_features_both, test_features_both, train_labels_RD, test_labels_RD = train_test_split(features_both, labels_RD)\n",
        "clf = LogisticRegression(max_iter=5000)\n",
        "clf.fit(train_features_both, train_labels_RD)\n",
        "print(clf.score(test_features_both, test_labels_RD))"
      ],
      "execution_count": 206,
      "outputs": [
        {
          "output_type": "stream",
          "text": [
            "0.9045454545454545\n"
          ],
          "name": "stdout"
        }
      ]
    },
    {
      "cell_type": "code",
      "metadata": {
        "id": "dYms667WG2HC"
      },
      "source": [
        "y_pred_RD=clf.predict(test_features_both)"
      ],
      "execution_count": 207,
      "outputs": []
    },
    {
      "cell_type": "markdown",
      "metadata": {
        "id": "brT1yn8NGQl4"
      },
      "source": [
        "#Model evalution(\"HIGH_INNOVATION\")\n",
        "\n",
        "the re-trained DistilBERT model has an accuracy score of about 0.90, which is significanly higher than the score \"0.51\" of the baseline classifier model."
      ]
    },
    {
      "cell_type": "markdown",
      "metadata": {
        "id": "gHpHuLXJF-9D"
      },
      "source": [
        "#baseline mode\n",
        "\n",
        "Check if this approach works better than a random guess (0.9 > 0.5). "
      ]
    },
    {
      "cell_type": "code",
      "metadata": {
        "colab": {
          "base_uri": "https://localhost:8080/"
        },
        "id": "5cq5CkCMFzrI",
        "outputId": "7ae8a334-3101-490c-e3df-dd0c17890c49"
      },
      "source": [
        "d_clf = DummyClassifier()\n",
        "\n",
        "scores = cross_val_score(d_clf, train_features_both, train_labels_RD)\n",
        "print(\"Dummy classifier score: %0.3f (+/- %0.2f)\" % (scores.mean(), scores.std() * 2))"
      ],
      "execution_count": 208,
      "outputs": [
        {
          "output_type": "stream",
          "text": [
            "Dummy classifier score: 0.513 (+/- 0.03)\n"
          ],
          "name": "stdout"
        },
        {
          "output_type": "stream",
          "text": [
            "/usr/local/lib/python3.7/dist-packages/sklearn/dummy.py:132: FutureWarning: The default value of strategy will change from stratified to prior in 0.24.\n",
            "  \"stratified to prior in 0.24.\", FutureWarning)\n"
          ],
          "name": "stderr"
        }
      ]
    },
    {
      "cell_type": "markdown",
      "metadata": {
        "id": "YGb-YKdNHAKZ"
      },
      "source": [
        "#Confusion Matrix (\"HIGH_INNOVATION\")"
      ]
    },
    {
      "cell_type": "markdown",
      "metadata": {
        "id": "k0XcI03AtiGq"
      },
      "source": [
        "1. print the confusion matrix in the form of the array object"
      ]
    },
    {
      "cell_type": "code",
      "metadata": {
        "colab": {
          "base_uri": "https://localhost:8080/"
        },
        "id": "UteM7VpXHDwZ",
        "outputId": "6c7cf7cd-18c5-4cc5-fb62-c2d1ac74b83a"
      },
      "source": [
        "cnf_matrix_RD = metrics.confusion_matrix(y_pred_RD, test_labels_RD)\n",
        "cnf_matrix_RD"
      ],
      "execution_count": 209,
      "outputs": [
        {
          "output_type": "execute_result",
          "data": {
            "text/plain": [
              "array([[351,  31],\n",
              "       [ 32, 246]])"
            ]
          },
          "metadata": {
            "tags": []
          },
          "execution_count": 209
        }
      ]
    },
    {
      "cell_type": "markdown",
      "metadata": {
        "id": "fh6xw8M7tjuB"
      },
      "source": [
        "2.visualizing confusion matrix using heatmap"
      ]
    },
    {
      "cell_type": "code",
      "metadata": {
        "colab": {
          "base_uri": "https://localhost:8080/",
          "height": 340
        },
        "id": "ehfLtYQRHOUQ",
        "outputId": "1122b7a3-76db-4f5d-a92f-6dc3a1ae78e8"
      },
      "source": [
        "%matplotlib inline\n",
        "\n",
        "class_names=[0,1] # name  of classes\n",
        "fig, ax = plt.subplots()\n",
        "tick_marks = np.arange(len(class_names))\n",
        "plt.xticks(tick_marks, class_names)\n",
        "plt.yticks(tick_marks, class_names)\n",
        "# create heatmap\n",
        "sns.heatmap(pd.DataFrame(cnf_matrix_RD), annot=True, cmap=\"YlGnBu\" ,fmt='g')\n",
        "ax.xaxis.set_label_position(\"top\")\n",
        "plt.tight_layout()\n",
        "plt.title('Confusion matrix(R&d)', y=1.1)\n",
        "plt.ylabel('Actual label')\n",
        "plt.xlabel('Predicted label')"
      ],
      "execution_count": 210,
      "outputs": [
        {
          "output_type": "execute_result",
          "data": {
            "text/plain": [
              "Text(0.5, 257.44, 'Predicted label')"
            ]
          },
          "metadata": {
            "tags": []
          },
          "execution_count": 210
        },
        {
          "output_type": "display_data",
          "data": {
            "image/png": "[encoded data removed]",
            "text/plain": [
              "<Figure size 432x288 with 2 Axes>"
            ]
          },
          "metadata": {
            "tags": [],
            "needs_background": "light"
          }
        }
      ]
    },
    {
      "cell_type": "markdown",
      "metadata": {
        "id": "boQq5TsHtqpK"
      },
      "source": [
        "3.Check evaluation Metrics"
      ]
    },
    {
      "cell_type": "code",
      "metadata": {
        "id": "pxFtxjGybu-s"
      },
      "source": [
        "#Look at the True Postive and True Negative:\n",
        "TP = 246\n",
        "TN = 351\n",
        "\n",
        "# Look at the False Postive and False Negative\n",
        "\n",
        "FP = 31\n",
        "FN = 32"
      ],
      "execution_count": 230,
      "outputs": []
    },
    {
      "cell_type": "code",
      "metadata": {
        "colab": {
          "base_uri": "https://localhost:8080/"
        },
        "id": "m9tFlRHnHuaZ",
        "outputId": "d7e8a3f3-213b-4b1e-d8ca-d0e3bb9c4823"
      },
      "source": [
        "#3.Evaluation Metrics\n",
        "\n",
        "print(\"Accuracy:\",metrics.accuracy_score(test_labels_RD, y_pred_RD))\n",
        "print(\"Precision:\",metrics.precision_score(test_labels_RD, y_pred_RD))\n",
        "print(\"Recall:\",metrics.recall_score(test_labels_RD, y_pred_RD))\n",
        "print(\"Specificity:\", TN/(TN+FP))"
      ],
      "execution_count": 231,
      "outputs": [
        {
          "output_type": "stream",
          "text": [
            "Accuracy: 0.9045454545454545\n",
            "Precision: 0.8848920863309353\n",
            "Recall: 0.8880866425992779\n",
            "Specificity: 0.918848167539267\n"
          ],
          "name": "stdout"
        }
      ]
    },
    {
      "cell_type": "markdown",
      "metadata": {
        "id": "OvQDXlD9cADh"
      },
      "source": [
        "#Interpretation of the confusion matrix\n",
        "**(HIGH_INNOVATION) :**\n",
        "\n",
        "The DistilBERT model has succesfully predicted 286 innovative companies that have R&D spending and 286 non-innovative companies that have 0 R&D spending based on the business descriptions. And the model fails to identify the other 32 innovative companies, and wrongly classified 31 non-innovative companies to the \"innovative\" group(HIGH_INNOVATION).\n",
        "\n",
        "===========================================================================\n",
        "\n",
        "Overall, the DistilBERT model performs very well. During our evaluation with the test data, the model correctly predict whether the company is a innovative company\" 90% of the time. \n",
        "\n",
        "*  (Precision):\n",
        "Besides, the model correctly predicted 85% of the innovative companies out of all the predictive \"HIGH_INNOVATIVE\"(innovative companies) classes.\n",
        "\n",
        "*  (Recall)\n",
        "The model correctly identified 82% of the innovative companies out of all the true innovative companies with R&D spending greater than zero.\n",
        "\n",
        "*  (Specificity)\n",
        "The model correctly identified 92% of the non-innovative companies out of all the true non-innovative companies with zero R&D spending.\n",
        "\n",
        "Thus, the model seems to perform quite well for identifying whether a company is an innovative company, espcially when it is used to find out those non-innovative companies.\n",
        "\n"
      ]
    },
    {
      "cell_type": "markdown",
      "metadata": {
        "id": "sxTRogYVH2gA"
      },
      "source": [
        "#Correlation\n",
        "\n",
        "**Analyze the correlation between predicted value of \"HIGH_ARR\" and the predicted value of\"HIGH_INNOVATION\".**"
      ]
    },
    {
      "cell_type": "markdown",
      "metadata": {
        "id": "7QhGzIJuJyCw"
      },
      "source": [
        "Putting the predicted value back to the dataframe"
      ]
    },
    {
      "cell_type": "code",
      "metadata": {
        "id": "i7ltKPtQTt2F"
      },
      "source": [
        "y_pred_arr= lr_clf.predict(features_both)\n",
        "y_pred_rd= clf.predict(features_both)"
      ],
      "execution_count": 212,
      "outputs": []
    },
    {
      "cell_type": "code",
      "metadata": {
        "id": "6a-H9n5hX356"
      },
      "source": [
        "df_des['pred_arr']=y_pred_arr\n",
        "df_des['pred_rd']=y_pred_rd"
      ],
      "execution_count": 213,
      "outputs": []
    },
    {
      "cell_type": "code",
      "metadata": {
        "colab": {
          "base_uri": "https://localhost:8080/",
          "height": 203
        },
        "id": "94JZAEfoatkJ",
        "outputId": "32f9d770-8e32-431a-cd1b-95f74c600297"
      },
      "source": [
        "df_des.head()"
      ],
      "execution_count": 214,
      "outputs": [
        {
          "output_type": "execute_result",
          "data": {
            "text/html": [
              "<div>\n",
              "<style scoped>\n",
              "    .dataframe tbody tr th:only-of-type {\n",
              "        vertical-align: middle;\n",
              "    }\n",
              "\n",
              "    .dataframe tbody tr th {\n",
              "        vertical-align: top;\n",
              "    }\n",
              "\n",
              "    .dataframe thead th {\n",
              "        text-align: right;\n",
              "    }\n",
              "</style>\n",
              "<table border=\"1\" class=\"dataframe\">\n",
              "  <thead>\n",
              "    <tr style=\"text-align: right;\">\n",
              "      <th></th>\n",
              "      <th>tic</th>\n",
              "      <th>sale</th>\n",
              "      <th>xrd</th>\n",
              "      <th>RD_intensity</th>\n",
              "      <th>HIGH_INNOVATION</th>\n",
              "      <th>ticker</th>\n",
              "      <th>Total Assets</th>\n",
              "      <th>Total Revenue</th>\n",
              "      <th>description</th>\n",
              "      <th>ar_ratio</th>\n",
              "      <th>HIGH_ARR</th>\n",
              "      <th>pred_arr</th>\n",
              "      <th>pred_rd</th>\n",
              "    </tr>\n",
              "  </thead>\n",
              "  <tbody>\n",
              "    <tr>\n",
              "      <th>0</th>\n",
              "      <td>AAL</td>\n",
              "      <td>17337.000</td>\n",
              "      <td>0.0</td>\n",
              "      <td>0.000000</td>\n",
              "      <td>0</td>\n",
              "      <td>AAL</td>\n",
              "      <td>6.200800e+10</td>\n",
              "      <td>1.733700e+10</td>\n",
              "      <td>American Airlines Group Inc., through its subs...</td>\n",
              "      <td>3.576628</td>\n",
              "      <td>1</td>\n",
              "      <td>1</td>\n",
              "      <td>0</td>\n",
              "    </tr>\n",
              "    <tr>\n",
              "      <th>1</th>\n",
              "      <td>CECE</td>\n",
              "      <td>316.011</td>\n",
              "      <td>0.0</td>\n",
              "      <td>0.000000</td>\n",
              "      <td>0</td>\n",
              "      <td>CECE</td>\n",
              "      <td>4.193140e+08</td>\n",
              "      <td>3.160110e+08</td>\n",
              "      <td>CECO Environmental Corp. provides industrial a...</td>\n",
              "      <td>1.326897</td>\n",
              "      <td>0</td>\n",
              "      <td>0</td>\n",
              "      <td>1</td>\n",
              "    </tr>\n",
              "    <tr>\n",
              "      <th>2</th>\n",
              "      <td>PNW</td>\n",
              "      <td>3586.982</td>\n",
              "      <td>0.0</td>\n",
              "      <td>0.000000</td>\n",
              "      <td>0</td>\n",
              "      <td>PNW</td>\n",
              "      <td>2.002042e+10</td>\n",
              "      <td>3.586982e+09</td>\n",
              "      <td>Pinnacle West Capital Corporation, through its...</td>\n",
              "      <td>5.581411</td>\n",
              "      <td>1</td>\n",
              "      <td>1</td>\n",
              "      <td>0</td>\n",
              "    </tr>\n",
              "    <tr>\n",
              "      <th>3</th>\n",
              "      <td>PRG</td>\n",
              "      <td>2484.595</td>\n",
              "      <td>0.0</td>\n",
              "      <td>0.000000</td>\n",
              "      <td>0</td>\n",
              "      <td>PRG</td>\n",
              "      <td>1.317404e+09</td>\n",
              "      <td>2.484595e+09</td>\n",
              "      <td>PROG Holdings, Inc. operates as an omnichannel...</td>\n",
              "      <td>0.530229</td>\n",
              "      <td>0</td>\n",
              "      <td>0</td>\n",
              "      <td>0</td>\n",
              "    </tr>\n",
              "    <tr>\n",
              "      <th>4</th>\n",
              "      <td>ABT</td>\n",
              "      <td>34608.000</td>\n",
              "      <td>2420.0</td>\n",
              "      <td>0.069926</td>\n",
              "      <td>1</td>\n",
              "      <td>ABT</td>\n",
              "      <td>7.254800e+10</td>\n",
              "      <td>3.460800e+10</td>\n",
              "      <td>Abbott Laboratories discovers, develops, manuf...</td>\n",
              "      <td>2.096278</td>\n",
              "      <td>0</td>\n",
              "      <td>0</td>\n",
              "      <td>1</td>\n",
              "    </tr>\n",
              "  </tbody>\n",
              "</table>\n",
              "</div>"
            ],
            "text/plain": [
              "    tic       sale     xrd  RD_intensity  ...  ar_ratio HIGH_ARR  pred_arr  pred_rd\n",
              "0   AAL  17337.000     0.0      0.000000  ...  3.576628        1         1        0\n",
              "1  CECE    316.011     0.0      0.000000  ...  1.326897        0         0        1\n",
              "2   PNW   3586.982     0.0      0.000000  ...  5.581411        1         1        0\n",
              "3   PRG   2484.595     0.0      0.000000  ...  0.530229        0         0        0\n",
              "4   ABT  34608.000  2420.0      0.069926  ...  2.096278        0         0        1\n",
              "\n",
              "[5 rows x 13 columns]"
            ]
          },
          "metadata": {
            "tags": []
          },
          "execution_count": 214
        }
      ]
    },
    {
      "cell_type": "code",
      "metadata": {
        "colab": {
          "base_uri": "https://localhost:8080/"
        },
        "id": "hjm36YzEbIiw",
        "outputId": "a3091e0c-3633-4d9a-e8de-f25ec81542f3"
      },
      "source": [
        "from scipy.stats import pearsonr\n",
        "corr, _ = pearsonr(df_des.pred_arr, df_des.pred_rd)\n",
        "print('Pearsons correlation: %.3f' % corr)"
      ],
      "execution_count": 229,
      "outputs": [
        {
          "output_type": "stream",
          "text": [
            "Pearsons correlation: -0.281\n"
          ],
          "name": "stdout"
        }
      ]
    },
    {
      "cell_type": "markdown",
      "metadata": {
        "id": "p0LqR9ZvNKwB"
      },
      "source": [
        "\n",
        "***To be more specific, we zoom in only the predcitions for the test features, and examine the correlation between \"HIGH_ARR\"and \" HIGH INNOVATION\". ***\n",
        "\n",
        "Given that test features are the same for the models, we can analyze the correlations between the predicted values for the same companies(with the same TICKERS)."
      ]
    },
    {
      "cell_type": "code",
      "metadata": {
        "id": "ZztYxAEr_r8_"
      },
      "source": [
        "y_pred_arr_test= lr_clf.predict(test_features_both)\n",
        "y_pred_rd_test= clf.predict(test_features_both)"
      ],
      "execution_count": 216,
      "outputs": []
    },
    {
      "cell_type": "code",
      "metadata": {
        "colab": {
          "base_uri": "https://localhost:8080/"
        },
        "id": "ryHyM0nHAGlA",
        "outputId": "10c7aee8-1309-4968-d105-0ff741b72bf5"
      },
      "source": [
        "corr, _ = pearsonr(y_pred_arr_test, y_pred_rd_test)\n",
        "print('Pearsons correlation: %.3f' % corr)"
      ],
      "execution_count": 217,
      "outputs": [
        {
          "output_type": "stream",
          "text": [
            "Pearsons correlation: -0.311\n"
          ],
          "name": "stdout"
        }
      ]
    },
    {
      "cell_type": "markdown",
      "metadata": {
        "id": "VWjvbDfDu6Ek"
      },
      "source": [
        "#Interpretatation of the correlation:\n",
        "\n",
        "There seems to be a negative correlation between the predicted value of \"HIGH_INNOVATION\" and the predicted value of \"HIGH_ARR\". Judging from the business descriptions, the distilBERT model results may show us a correlation that innovative type of companies are on average less likely to be \"high-asset intensity\" companies, compared to those non-innovatie companies. "
      ]
    },
    {
      "cell_type": "markdown",
      "metadata": {
        "id": "5nTshetyxf75"
      },
      "source": [
        "Save the output as pdf"
      ]
    }
  ]
}